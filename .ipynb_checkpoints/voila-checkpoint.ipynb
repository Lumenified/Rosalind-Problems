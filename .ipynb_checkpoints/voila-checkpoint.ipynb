{
 "cells": [
  {
   "cell_type": "code",
   "execution_count": null,
   "id": "7c508f04",
   "metadata": {},
   "outputs": [],
   "source": [
    "with open(\"myfile.txt\", \"r\") as p:\n",
    "    \"\"\"\n",
    "    modifying the fasta file.\n",
    "    \"\"\"\n",
    "    my_file = []\n",
    "    my_id = \"\"\n",
    "    my_cache = \"\"\n",
    "    my_gen = 0\n",
    "    for i in p.readlines():\n",
    "        if i[0] == \">\":# \">\" (bigger than) symbol indicates that its the id of our sequence\n",
    "            if my_gen==0:\n",
    "                my_id = i[1:]#without the symbol\n",
    "                my_gen += 1\n",
    "            else:\n",
    "                my_file.append([my_id.replace(\"\\n\", \"\"),my_cache.replace(\"\\n\", \"\")])\n",
    "                my_id = i[1:]\n",
    "                my_cache = \"\"\n",
    "        else:#if the line doesnt start with the symbol it means its our gene's itself or extent\n",
    "            my_cache += i[:-1]#we add up the nucleotide lines until \\n (end of a line)\n",
    "    my_file.append([my_id.replace(\"\\n\", \"\"), my_cache.replace(\"\\n\", \"\")])\n",
    "\n",
    "def calc_gc_content(seq):\n",
    "    \"\"\"\n",
    "        its calculating the G/C content and returns the id and its ratio as n (unlike n/100)\n",
    "    \"\"\"\n",
    "    mylist = []\n",
    "    for j in range(len(seq)):\n",
    "        my_ratio = (seq[j][1].count(\"G\") + seq[j][1].count(\"C\"))/len(seq[j][1]) * 100\n",
    "        mylist.append([seq[j][0], my_ratio])\n",
    "        pass\n",
    "    my_return = sorted(mylist, key=lambda x: x[1], reverse=True)\n",
    "    return str(my_return[0][0]) + \"\\n\" + str(my_return[0][1])\n",
    "print(calc_gc_content(my_file))"
   ]
  },
  {
   "cell_type": "code",
   "execution_count": null,
   "id": "0c1ae37f",
   "metadata": {},
   "outputs": [],
   "source": [
    "with open(\"myfile.txt\", \"r\") as p:\n",
    "    \"\"\"\n",
    "    modifying the fasta file.\n",
    "    \"\"\"\n",
    "    my_file = []\n",
    "    my_id = \"\"\n",
    "    my_cache = \"\"\n",
    "    my_gen = 0\n",
    "    for i in p.readlines():\n",
    "        if i[0] == \">\":# \">\" (bigger than) symbol indicates that its the id of our sequence\n",
    "            if my_gen==0:\n",
    "                my_id = i[1:]#without the symbol\n",
    "                my_gen += 1\n",
    "            else:\n",
    "                my_file.append([my_id.replace(\"\\n\", \"\"),my_cache.replace(\"\\n\", \"\")])\n",
    "                my_id = i[1:]\n",
    "                my_cache = \"\"\n",
    "        else:#if the line doesnt start with the symbol it means its our gene's itself or extent\n",
    "            my_cache += i[:-1]#we add up the nucleotide lines until \\n (end of a line)\n",
    "    my_file.append([my_id.replace(\"\\n\", \"\"), my_cache.replace(\"\\n\", \"\")])\n",
    "def motif(seq):\n",
    "    seq_lengths = []\n",
    "    for i in seq:\n",
    "        seq_lengths.append([i[1] ,len(i[1]), seq.index(i)])\n",
    "    seq_lengths.sort(key=lambda x:x[1], reverse=True)\n",
    "    seq1 = seq[seq_lengths[0][2]][1]\n",
    "    seq.pop(seq_lengths[0][2])\n",
    "    seq2 = seq[0][1]\n",
    "    #print(seq1)\n",
    "    #print(seq2)\n",
    "    patterns = []\n",
    "    print(type(seq2))\n",
    "    for i in range(len(seq2),5,-1):\n",
    "        for j in range(len(seq2)-i+1):\n",
    "            if e[j:j+i] in seq1 and seq2[j:j+i] not in patterns:\n",
    "                patterns.append(seq2[j:j+i])\n",
    "    motifs = []\n",
    "    print(patterns)\n",
    "    #print(seq)\n",
    "    for i in seq:\n",
    "        print(i[1])\n",
    "        for j in patterns:\n",
    "            #print(i[1])\n",
    "            if j in list(i[1]):\n",
    "                motifs.append(j)\n",
    "    return motifs\n",
    "            "
   ]
  },
  {
   "cell_type": "code",
   "execution_count": null,
   "id": "75cc733c",
   "metadata": {
    "scrolled": true
   },
   "outputs": [],
   "source": [
    "for i in range(10,0,-1):\n",
    "    print(i)"
   ]
  },
  {
   "cell_type": "code",
   "execution_count": null,
   "id": "4892ae18",
   "metadata": {},
   "outputs": [],
   "source": [
    "s = \"GATTACA\"\n",
    "e = \"ATACA\"\n",
    "m = \"TAGACCA\"\n",
    "pattern_list = []\n",
    "wow = []\n",
    "for i in range(len(e),1,-1):\n",
    "    for j in range(len(e)-i+1):\n",
    "        if e[j:j+i] in s and e[j:j+i] not in pattern_list:\n",
    "            pattern_list.append(e[j:j+i])\n",
    "for i in pattern_list:\n",
    "    if i in m and i not in wow:\n",
    "        wow.append(i)\n",
    "print(pattern_list)\n",
    "print(wow)"
   ]
  },
  {
   "cell_type": "code",
   "execution_count": null,
   "id": "3f21c5dd",
   "metadata": {},
   "outputs": [],
   "source": [
    "motif(my_file)"
   ]
  },
  {
   "cell_type": "code",
   "execution_count": null,
   "id": "71b9fd6b",
   "metadata": {},
   "outputs": [],
   "source": []
  },
  {
   "cell_type": "code",
   "execution_count": null,
   "id": "747d821f",
   "metadata": {},
   "outputs": [],
   "source": []
  },
  {
   "cell_type": "code",
   "execution_count": null,
   "id": "6c4d6133",
   "metadata": {},
   "outputs": [],
   "source": []
  }
 ],
 "metadata": {
  "kernelspec": {
   "display_name": "Python 3 (ipykernel)",
   "language": "python",
   "name": "python3"
  },
  "language_info": {
   "codemirror_mode": {
    "name": "ipython",
    "version": 3
   },
   "file_extension": ".py",
   "mimetype": "text/x-python",
   "name": "python",
   "nbconvert_exporter": "python",
   "pygments_lexer": "ipython3",
   "version": "3.10.7"
  }
 },
 "nbformat": 4,
 "nbformat_minor": 5
}
