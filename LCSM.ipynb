{
 "cells": [
  {
   "cell_type": "code",
   "execution_count": 10,
   "id": "0c1ae37f",
   "metadata": {},
   "outputs": [],
   "source": [
    "with open(\"myfile.txt\", \"r\") as p:\n",
    "    \"\"\"\n",
    "    modifying the fasta file.\n",
    "    \"\"\"\n",
    "    my_file = []\n",
    "    my_id = \"\"\n",
    "    my_cache = \"\"\n",
    "    my_gen = 0\n",
    "    for i in p.readlines():\n",
    "        if i[0] == \">\":# \">\" (bigger than) symbol indicates that its the id of our sequence\n",
    "            if my_gen==0:\n",
    "                my_id = i[1:]#without the symbol\n",
    "                my_gen += 1\n",
    "            else:\n",
    "                my_file.append([my_id.replace(\"\\n\", \"\"),my_cache.replace(\"\\n\", \"\")])\n",
    "                my_id = i[1:]\n",
    "                my_cache = \"\"\n",
    "        else:#if the line doesnt start with the symbol it means its our gene's itself or extent\n",
    "            my_cache += i[:-1]#we add up the nucleotide lines until \\n (end of a line)\n",
    "    my_file.append([my_id.replace(\"\\n\", \"\"), my_cache.replace(\"\\n\", \"\")])"
   ]
  },
  {
   "cell_type": "code",
   "execution_count": 11,
   "id": "6c4d6133",
   "metadata": {},
   "outputs": [],
   "source": [
    "def motif(seq):\n",
    "    seq_lengths = []\n",
    "    for i in seq: #append seq lengths into the array's items,\n",
    "        seq_lengths.append([i[1] ,len(i[1]), seq.index(i)])\n",
    "    seq_lengths.sort(key=lambda x:x[1])#find the shortest seq to compare\n",
    "    seq1 = seq[seq_lengths[0][2]][1]\n",
    "    seq.pop(seq_lengths[0][2])#pop the shortest seq\n",
    "    for j in range(len(seq1), 5, -1):#start from the biggest subseq\n",
    "        for k in range(len(seq1)-j+1):#shift the subseq by 1\n",
    "            for i in seq: #compare the subseq\n",
    "                if seq1[k:k+j] in i[1]: #if subseq in i continue\n",
    "                    #print(\"attempt\")\n",
    "                    if i==seq[-1]: #if it's the last item in the array return it\n",
    "                        return (seq1[k:k+j])\n",
    "                else:\n",
    "                    break #otherwise break comparing and iterate to the next subseq"
   ]
  },
  {
   "cell_type": "code",
   "execution_count": 12,
   "id": "2bc6e0fc",
   "metadata": {},
   "outputs": [
    {
     "name": "stdout",
     "output_type": "stream",
     "text": [
      "TAGAATTCCCCTGGACTTTGTCCGGACCCCCGTAGGTAATGGCCTTCGGCGTCGATTTGCCGGCTCCACCCCCTTAGTACGGGCTGGAATAACCAGCTCTCATCAATCGAGAACCACCCTATGTCAAAACCTGTTGGGTAATTAAAGACTCCATCCCTGCCGC\n"
     ]
    }
   ],
   "source": [
    "print(motif(my_file))"
   ]
  },
  {
   "cell_type": "code",
   "execution_count": null,
   "id": "a9924ecb",
   "metadata": {},
   "outputs": [],
   "source": []
  },
  {
   "cell_type": "code",
   "execution_count": null,
   "id": "ee738ce0-fd74-4435-85bf-f73787cf4d4b",
   "metadata": {},
   "outputs": [],
   "source": []
  }
 ],
 "metadata": {
  "kernelspec": {
   "display_name": "Python 3 (ipykernel)",
   "language": "python",
   "name": "python3"
  },
  "language_info": {
   "codemirror_mode": {
    "name": "ipython",
    "version": 3
   },
   "file_extension": ".py",
   "mimetype": "text/x-python",
   "name": "python",
   "nbconvert_exporter": "python",
   "pygments_lexer": "ipython3",
   "version": "3.10.7"
  }
 },
 "nbformat": 4,
 "nbformat_minor": 5
}
